{
 "cells": [
  {
   "cell_type": "code",
   "execution_count": 0,
   "metadata": {
    "application/vnd.databricks.v1+cell": {
     "cellMetadata": {
      "byteLimit": 2048000,
      "rowLimit": 10000
     },
     "inputWidgets": {},
     "nuid": "35ef3be3-a59f-4a5e-8de5-753bb97bd6e3",
     "showTitle": true,
     "tableResultSettingsMap": {},
     "title": "Imports"
    }
   },
   "outputs": [],
   "source": [
    "from pyspark.sql.functions import col, round\n",
    "from pyspark.sql.functions import when, col\n"
   ]
  },
  {
   "cell_type": "code",
   "execution_count": 0,
   "metadata": {
    "application/vnd.databricks.v1+cell": {
     "cellMetadata": {
      "byteLimit": 2048000,
      "rowLimit": 10000
     },
     "inputWidgets": {},
     "nuid": "41caf90d-0550-4bfe-88dc-f39055ff7810",
     "showTitle": true,
     "tableResultSettingsMap": {},
     "title": "Acessing 'sales' bronze table from schema bronze"
    }
   },
   "outputs": [],
   "source": [
    "# Accessing sales table from bronze schema under retail_poc catalog\n",
    "sales_df = spark.table('retail_poc.bronze.sales')\n"
   ]
  },
  {
   "cell_type": "code",
   "execution_count": 0,
   "metadata": {
    "application/vnd.databricks.v1+cell": {
     "cellMetadata": {
      "byteLimit": 2048000,
      "rowLimit": 10000
     },
     "inputWidgets": {},
     "nuid": "10ea8e62-3d4b-43d2-aee4-feebde630503",
     "showTitle": true,
     "tableResultSettingsMap": {},
     "title": "check datatypes"
    }
   },
   "outputs": [],
   "source": [
    "# sales_df.printSchema()"
   ]
  },
  {
   "cell_type": "code",
   "execution_count": 0,
   "metadata": {
    "application/vnd.databricks.v1+cell": {
     "cellMetadata": {
      "byteLimit": 2048000,
      "rowLimit": 10000
     },
     "inputWidgets": {},
     "nuid": "e0f0674a-bd0d-4f26-8a77-321e77d07e54",
     "showTitle": true,
     "tableResultSettingsMap": {},
     "title": "counting null values in sales_Df"
    }
   },
   "outputs": [],
   "source": [
    "for column in sales_df.columns:\n",
    "    # Filter rows where the column value starts with '#'\n",
    "    df_filtered = sales_df.filter(col(column).startswith(\"#\"))\n",
    "    count = df_filtered.count()\n",
    "    if count > 0:\n",
    "        print(f\"Column '{column}' has {count} values starting with '#'\")\n",
    "        df_filtered.select(column).distinct().show(truncate=False)\n"
   ]
  },
  {
   "cell_type": "code",
   "execution_count": 0,
   "metadata": {
    "application/vnd.databricks.v1+cell": {
     "cellMetadata": {
      "byteLimit": 2048000,
      "rowLimit": 10000
     },
     "inputWidgets": {},
     "nuid": "4ad573f6-58a1-4299-83fa-8ab4c1a87dd7",
     "showTitle": true,
     "tableResultSettingsMap": {},
     "title": "deduplicate sales_df"
    }
   },
   "outputs": [],
   "source": [
    "# Drop exact duplicate rows\n",
    "sales_df_dedup = sales_df.dropDuplicates()\n",
    "\n",
    "print(f\"Rows after dropping duplicates: {sales_df_dedup.count()}\")\n"
   ]
  },
  {
   "cell_type": "code",
   "execution_count": 0,
   "metadata": {
    "application/vnd.databricks.v1+cell": {
     "cellMetadata": {
      "byteLimit": 2048000,
      "rowLimit": 10000
     },
     "inputWidgets": {},
     "nuid": "ee230fca-0b1c-4fec-a825-0266c4485868",
     "showTitle": true,
     "tableResultSettingsMap": {},
     "title": "cleaning dataset by removing  invalid values"
    }
   },
   "outputs": [],
   "source": [
    "clean_df = sales_df_dedup.filter(\n",
    "    (col(\"Category\") != \"#N/A\") &\n",
    "    (col(\"Sub_Category\") != \"#N/A\") &\n",
    "    (col(\"Gender\") != \"#N/A\") &\n",
    "    (col(\"GST_\") != \"#DIV/0!\") &\n",
    "    (col(\"GST_\") != \"#N/A\")\n",
    ")\n",
    "\n",
    "print(f\"Rows after cleaning invalid values: {clean_df.count()}\")\n"
   ]
  },
  {
   "cell_type": "code",
   "execution_count": 0,
   "metadata": {
    "application/vnd.databricks.v1+cell": {
     "cellMetadata": {
      "byteLimit": 2048000,
      "rowLimit": 10000
     },
     "inputWidgets": {},
     "nuid": "9e0f8742-dda7-4707-8a94-08bda9fadf5f",
     "showTitle": false,
     "tableResultSettingsMap": {},
     "title": ""
    }
   },
   "outputs": [],
   "source": [
    "# clean_df.describe()"
   ]
  },
  {
   "cell_type": "code",
   "execution_count": 0,
   "metadata": {
    "application/vnd.databricks.v1+cell": {
     "cellMetadata": {
      "byteLimit": 2048000,
      "rowLimit": 10000
     },
     "inputWidgets": {},
     "nuid": "6478e001-260a-4a08-a6cf-4c4fbecbf93f",
     "showTitle": true,
     "tableResultSettingsMap": {},
     "title": "casting datatypes as per requirement"
    }
   },
   "outputs": [],
   "source": [
    "silver_df = clean_df.select(\n",
    "    col(\"Channel\"),\n",
    "    col(\"EAN\"),\n",
    "    col(\"Date\").cast(\"date\"),\n",
    "    col(\"Category\"),\n",
    "    col(\"Sub_Category\"),\n",
    "    col(\"Gender\"),\n",
    "    col(\"Store_code\").cast(\"int\"),\n",
    "    col(\"Month\"),\n",
    "    col(\"Year\").cast(\"int\"),\n",
    "    col(\"Sale_QTY\").cast(\"int\"),\n",
    "    col(\"Sale_iV\").cast(\"float\"),\n",
    "    col(\"Net_Margin\").cast(\"float\"),\n",
    "    col(\"COGS\").cast(\"float\"),\n",
    "    col(\"MRP\").cast(\"float\"),\n",
    "    col(\"MRP_Value\").cast(\"float\"),\n",
    "    col(\"Net_Sales\").cast(\"float\"),\n",
    "    col(\"Brand_code\"),\n",
    "    col(\"brand_as_per_master\"),\n",
    "    col(\"season\"),\n",
    "    col(\"GST_\").cast(\"float\"),\n",
    "    col(\"_rescued_data\")\n",
    ")\n"
   ]
  },
  {
   "cell_type": "code",
   "execution_count": 0,
   "metadata": {
    "application/vnd.databricks.v1+cell": {
     "cellMetadata": {
      "byteLimit": 2048000,
      "rowLimit": 10000
     },
     "inputWidgets": {},
     "nuid": "699cfe72-b74f-4dd0-ba2e-5546e8e3d034",
     "showTitle": false,
     "tableResultSettingsMap": {},
     "title": ""
    }
   },
   "outputs": [],
   "source": [
    "# silver_df.printSchema"
   ]
  },
  {
   "cell_type": "code",
   "execution_count": 0,
   "metadata": {
    "application/vnd.databricks.v1+cell": {
     "cellMetadata": {
      "byteLimit": 2048000,
      "rowLimit": 10000
     },
     "inputWidgets": {},
     "nuid": "a64cb378-524c-4ec5-8fd9-516f725c9202",
     "showTitle": true,
     "tableResultSettingsMap": {},
     "title": "Calculating Margin%"
    }
   },
   "outputs": [],
   "source": [
    "#calculated Margin% = Net_Margin / Net_Sales * 100 , results were saved in new column named 'Margin %' in sales_df\n",
    "silver_df = silver_df.withColumn(\n",
    "    \"Margin_%\",\n",
    "    round((col(\"Net_Margin\") / col(\"Net_Sales\")) * 100, 2)\n",
    ")\n"
   ]
  },
  {
   "cell_type": "code",
   "execution_count": 0,
   "metadata": {
    "application/vnd.databricks.v1+cell": {
     "cellMetadata": {
      "byteLimit": 2048000,
      "rowLimit": 10000
     },
     "inputWidgets": {},
     "nuid": "bcfb6325-190d-4197-8c9d-6288bea82fb9",
     "showTitle": false,
     "tableResultSettingsMap": {},
     "title": ""
    }
   },
   "outputs": [],
   "source": [
    "\n",
    "# Replace 'MEN' with 'WOMEN' if Sub_Category is 'SKIRT'\n",
    "silver_df = silver_df.withColumn(\n",
    "    \"Gender\",\n",
    "    when((col(\"Sub_Category\") == \"SKIRT\") & (col(\"Gender\") == \"MEN\"), \"WOMEN\").otherwise(col(\"Gender\"))\n",
    ")\n"
   ]
  },
  {
   "cell_type": "code",
   "execution_count": 0,
   "metadata": {
    "application/vnd.databricks.v1+cell": {
     "cellMetadata": {
      "byteLimit": 2048000,
      "rowLimit": 10000
     },
     "inputWidgets": {},
     "nuid": "587f7c04-9234-4920-b40d-b26ca4f65564",
     "showTitle": false,
     "tableResultSettingsMap": {},
     "title": ""
    }
   },
   "outputs": [],
   "source": [
    "# silver_df.display()"
   ]
  },
  {
   "cell_type": "code",
   "execution_count": 0,
   "metadata": {
    "application/vnd.databricks.v1+cell": {
     "cellMetadata": {
      "byteLimit": 2048000,
      "rowLimit": 10000
     },
     "inputWidgets": {},
     "nuid": "3045c907-0914-4109-80d1-71c09c0914a6",
     "showTitle": true,
     "tableResultSettingsMap": {},
     "title": "Left Join Sales & store_master"
    }
   },
   "outputs": [],
   "source": [
    "#accessing store_master table from bronze schema under retail_poc catalog \n",
    "#joining sales_df with store_master_df based on store_code (INNER JOIN)\n",
    "\n",
    "store_master_df = spark.table(\"retail_poc.bronze.store_master\")\n",
    "store_master = store_master_df.select(col(\"Store_code\").cast(\"int\").alias(\"Store_code\"), col(\"store_name\"), col(\"region\"))\n",
    "\n",
    "silver_df.createOrReplaceTempView(\"silver_df\")\n",
    "store_master.createOrReplaceTempView(\"store_master\")\n",
    "\n",
    "joined_df = spark.sql(\"\"\"\n",
    "SELECT s.*, sm.store_name, sm.region\n",
    "FROM silver_df s\n",
    "INNER JOIN store_master sm\n",
    "ON s.Store_code = sm.Store_code\n",
    "\"\"\")\n",
    "\n",
    "# display(joined_df)"
   ]
  },
  {
   "cell_type": "code",
   "execution_count": 0,
   "metadata": {
    "application/vnd.databricks.v1+cell": {
     "cellMetadata": {
      "byteLimit": 2048000,
      "rowLimit": 10000
     },
     "inputWidgets": {},
     "nuid": "69e5eda4-a98d-49f7-ab36-ea5974fe297a",
     "showTitle": false,
     "tableResultSettingsMap": {},
     "title": ""
    }
   },
   "outputs": [],
   "source": [
    "# store_master_df.display()\n",
    "# store_master_df.printSchema"
   ]
  },
  {
   "cell_type": "code",
   "execution_count": 0,
   "metadata": {
    "application/vnd.databricks.v1+cell": {
     "cellMetadata": {
      "byteLimit": 2048000,
      "rowLimit": 10000
     },
     "inputWidgets": {},
     "nuid": "a171cfa5-8167-4242-aaee-e31823ae96f0",
     "showTitle": false,
     "tableResultSettingsMap": {},
     "title": ""
    }
   },
   "outputs": [],
   "source": [
    "# display(joined_df)\n"
   ]
  },
  {
   "cell_type": "code",
   "execution_count": 0,
   "metadata": {
    "application/vnd.databricks.v1+cell": {
     "cellMetadata": {
      "byteLimit": 2048000,
      "rowLimit": 10000
     },
     "inputWidgets": {},
     "nuid": "5ad46c92-b783-4a25-b215-df0d2a001067",
     "showTitle": true,
     "tableResultSettingsMap": {},
     "title": "create one silver combined table"
    }
   },
   "outputs": [],
   "source": [
    "joined_df.write.format(\"delta\") \\\n",
    "    .mode(\"overwrite\") \\\n",
    "    .saveAsTable(\"retail_poc.silver.combined_sales_summary\")"
   ]
  }
 ],
 "metadata": {
  "application/vnd.databricks.v1+notebook": {
   "computePreferences": null,
   "dashboards": [],
   "environmentMetadata": {
    "base_environment": "",
    "environment_version": "2"
   },
   "inputWidgetPreferences": null,
   "language": "python",
   "notebookMetadata": {
    "mostRecentlyExecutedCommandWithImplicitDF": {
     "commandId": 5997762442184061,
     "dataframes": [
      "_sqldf"
     ]
    },
    "pythonIndentUnit": 4
   },
   "notebookName": "Silver_layer Retail_POC",
   "widgets": {}
  },
  "language_info": {
   "name": "python"
  }
 },
 "nbformat": 4,
 "nbformat_minor": 0
}
