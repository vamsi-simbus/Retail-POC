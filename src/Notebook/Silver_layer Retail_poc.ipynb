{
 "cells": [
  {
   "cell_type": "code",
   "execution_count": 0,
   "metadata": {
    "application/vnd.databricks.v1+cell": {
     "cellMetadata": {
      "byteLimit": 2048000,
      "rowLimit": 10000
     },
     "inputWidgets": {},
     "nuid": "35ef3be3-a59f-4a5e-8de5-753bb97bd6e3",
     "showTitle": true,
     "tableResultSettingsMap": {},
     "title": "Imports"
    }
   },
   "outputs": [],
   "source": [
    "from pyspark.sql.functions import col, round\n",
    "\n"
   ]
  },
  {
   "cell_type": "code",
   "execution_count": 0,
   "metadata": {
    "application/vnd.databricks.v1+cell": {
     "cellMetadata": {
      "byteLimit": 2048000,
      "rowLimit": 10000
     },
     "inputWidgets": {},
     "nuid": "41caf90d-0550-4bfe-88dc-f39055ff7810",
     "showTitle": true,
     "tableResultSettingsMap": {},
     "title": "Acessing 'sales' bronze table from schema bronze"
    }
   },
   "outputs": [],
   "source": [
    "# Accessing sales table from bronze schema under retail_poc catalog\n",
    "sales_df = spark.table('retail_poc.bronze.sales')\n",
    "#sales_df.display(limit=10)\n"
   ]
  },
  {
   "cell_type": "code",
   "execution_count": 0,
   "metadata": {
    "application/vnd.databricks.v1+cell": {
     "cellMetadata": {
      "byteLimit": 2048000,
      "rowLimit": 10000
     },
     "inputWidgets": {},
     "nuid": "a64cb378-524c-4ec5-8fd9-516f725c9202",
     "showTitle": true,
     "tableResultSettingsMap": {},
     "title": "Calculating Margin%"
    }
   },
   "outputs": [],
   "source": [
    "#calculated Margin% = Net_Margin / Net_Sales * 100 , results were saved in new column named 'Margin %' in sales_df\n",
    "sales_df = sales_df.withColumn(\n",
    "    \"Margin_%\",\n",
    "    round((col(\"Net_Margin\") / col(\"Net_Sales\")) * 100, 2)\n",
    ")\n"
   ]
  },
  {
   "cell_type": "code",
   "execution_count": 0,
   "metadata": {
    "application/vnd.databricks.v1+cell": {
     "cellMetadata": {
      "byteLimit": 2048000,
      "rowLimit": 10000
     },
     "inputWidgets": {},
     "nuid": "3045c907-0914-4109-80d1-71c09c0914a6",
     "showTitle": true,
     "tableResultSettingsMap": {},
     "title": "Left Join Sales & store_master"
    }
   },
   "outputs": [],
   "source": [
    "#accessing store_master table from bronze schema under retail_poc catalog \n",
    "#joining sales_df with store_master_df based on store_code (LEFT JOIN)\n",
    "\n",
    "\n",
    "store_master_df = spark.table(\"retail_poc.bronze.store_master\")\n",
    "\n",
    "joined_df = sales_df.join(\n",
    "    store_master_df.select(\"store_name\", \"region\"),\n",
    "    sales_df.Store_code == col('store_code'),\n",
    "    how=\"left\"\n",
    ")\n",
    "\n",
    "display(joined_df)"
   ]
  },
  {
   "cell_type": "code",
   "execution_count": 0,
   "metadata": {
    "application/vnd.databricks.v1+cell": {
     "cellMetadata": {
      "byteLimit": 2048000,
      "rowLimit": 10000
     },
     "inputWidgets": {},
     "nuid": "470b1939-d22c-4715-964b-8804190fbb59",
     "showTitle": true,
     "tableResultSettingsMap": {},
     "title": "Create df for usecase 1 Store Performance & Ranking"
    }
   },
   "outputs": [],
   "source": [
    "silver_df = joined_df.select(\n",
    "    sales_df.Store_code.alias(\"Store_code\"),\n",
    "    \"region\",\n",
    "    \"Month\",\n",
    "    \"Year\",\n",
    "    col(\"Sale_QTY\").alias(\"Units_sold\"),\n",
    "    \"COGS\",\n",
    "    col(\"Sale_iV\").alias(\"Total_Sales\"),    # Rename on the fly if needed\n",
    "    \"Net_Margin\",\n",
    "    \"Margin_%\",\n",
    ")"
   ]
  },
  {
   "cell_type": "code",
   "execution_count": 0,
   "metadata": {
    "application/vnd.databricks.v1+cell": {
     "cellMetadata": {
      "byteLimit": 2048000,
      "rowLimit": 10000
     },
     "inputWidgets": {},
     "nuid": "8708f214-efea-4091-b1e3-9aceb415fdda",
     "showTitle": true,
     "tableResultSettingsMap": {},
     "title": "Create df for usecase 2 Product Profitability Analysis"
    }
   },
   "outputs": [],
   "source": [
    "silver_product_df = sales_df.withColumnRenamed(\"Sale_QTY\", \"Units_Sold\") \\\n",
    "    .withColumnRenamed(\"Net_Margin\", \"Total_Margin\") \\\n",
    "    .select(\n",
    "        \"EAN\",\n",
    "        \"Category\",\n",
    "        \"Sub_Category\",\n",
    "        \"Gender\",\n",
    "        \"Units_Sold\",\n",
    "        \"Margin_%\",\n",
    "        \"Total_Margin\"\n",
    "    )"
   ]
  },
  {
   "cell_type": "code",
   "execution_count": 0,
   "metadata": {
    "application/vnd.databricks.v1+cell": {
     "cellMetadata": {
      "byteLimit": 2048000,
      "rowLimit": 10000
     },
     "inputWidgets": {},
     "nuid": "eeba1123-56a2-418e-8732-0f883d2af6f1",
     "showTitle": true,
     "tableResultSettingsMap": {},
     "title": "calculate duplicates and count distinct values in each df"
    }
   },
   "outputs": [],
   "source": [
    "%python\n",
    "total_duplicate_silver_df = silver_df.count() - silver_df.dropDuplicates().count()\n",
    "total_duplicate_product_df = silver_product_df.count() - silver_product_df.dropDuplicates().count()\n",
    "print(f\"total_duplicate_silver_df: {total_duplicate_silver_df}\")\n",
    "print(f\"total_duplicate_product_df: {total_duplicate_product_df}\")"
   ]
  },
  {
   "cell_type": "code",
   "execution_count": 0,
   "metadata": {
    "application/vnd.databricks.v1+cell": {
     "cellMetadata": {
      "byteLimit": 2048000,
      "rowLimit": 10000
     },
     "inputWidgets": {},
     "nuid": "e03f75ab-9626-4711-aae1-de875aa3e715",
     "showTitle": true,
     "tableResultSettingsMap": {},
     "title": "deduplicate both df"
    }
   },
   "outputs": [],
   "source": [
    "deduplicated_silver_df = silver_df.dropDuplicates()\n",
    "deduplicated_product_df = silver_product_df.dropDuplicates()"
   ]
  },
  {
   "cell_type": "code",
   "execution_count": 0,
   "metadata": {
    "application/vnd.databricks.v1+cell": {
     "cellMetadata": {
      "byteLimit": 2048000,
      "implicitDf": true,
      "rowLimit": 10000
     },
     "inputWidgets": {},
     "nuid": "20205249-76a5-4b94-9c41-1d7e276696b9",
     "showTitle": true,
     "tableResultSettingsMap": {},
     "title": "create new scheme'Silver' under retail_poc catalog"
    }
   },
   "outputs": [],
   "source": [
    "%sql\n",
    "USE CATALOG retail_poc;\n",
    "CREATE SCHEMA IF NOT EXISTS retail_poc.silver;"
   ]
  },
  {
   "cell_type": "code",
   "execution_count": 0,
   "metadata": {
    "application/vnd.databricks.v1+cell": {
     "cellMetadata": {
      "byteLimit": 2048000,
      "rowLimit": 10000
     },
     "inputWidgets": {},
     "nuid": "9b75038a-df8b-4cfd-82d7-e6f65c80e69d",
     "showTitle": true,
     "tableResultSettingsMap": {},
     "title": "save df as delta table to silver schema"
    }
   },
   "outputs": [],
   "source": [
    "# Save deduplicated sales-based DataFrame\n",
    "deduplicated_silver_df.write.format(\"delta\") \\\n",
    "    .mode(\"overwrite\") \\\n",
    "    .saveAsTable(\"retail_poc.silver.store_sales_summary\")\n",
    "\n",
    "# Save deduplicated product-level DataFrame\n",
    "deduplicated_product_df.write.format(\"delta\") \\\n",
    "    .mode(\"overwrite\") \\\n",
    "    .saveAsTable(\"retail_poc.silver.product_sale_summary\")\n"
   ]
  }
 ],
 "metadata": {
  "application/vnd.databricks.v1+notebook": {
   "computePreferences": null,
   "dashboards": [],
   "environmentMetadata": {
    "base_environment": "",
    "environment_version": "2"
   },
   "inputWidgetPreferences": null,
   "language": "python",
   "notebookMetadata": {
    "mostRecentlyExecutedCommandWithImplicitDF": {
     "commandId": 6200265025628581,
     "dataframes": [
      "_sqldf"
     ]
    },
    "pythonIndentUnit": 4
   },
   "notebookName": "Silver_layer Retail_poc",
   "widgets": {}
  },
  "language_info": {
   "name": "python"
  }
 },
 "nbformat": 4,
 "nbformat_minor": 0
}
