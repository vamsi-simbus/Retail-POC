{
 "cells": [
  {
   "cell_type": "code",
   "execution_count": 0,
   "metadata": {
    "application/vnd.databricks.v1+cell": {
     "cellMetadata": {
      "byteLimit": 2048000,
      "rowLimit": 10000
     },
     "inputWidgets": {},
     "nuid": "bb2c6191-2ac2-45e5-8a72-5527b4faa7f4",
     "showTitle": true,
     "tableResultSettingsMap": {},
     "title": "Imports"
    }
   },
   "outputs": [],
   "source": [
    "from pyspark.sql import functions as F\n",
    "from pyspark.sql.functions import sum, avg, rank, dense_rank\n",
    "from pyspark.sql.window import Window\n",
    "from pyspark.sql.functions import when, col\n",
    "from pyspark.sql.functions import sum, avg, round as rnd, col\n",
    "from pyspark.sql import functions as F\n",
    "from pyspark.sql.window import Window\n",
    "from pyspark.sql.functions import dense_rank\n"
   ]
  },
  {
   "cell_type": "code",
   "execution_count": 0,
   "metadata": {
    "application/vnd.databricks.v1+cell": {
     "cellMetadata": {
      "byteLimit": 2048000,
      "rowLimit": 10000
     },
     "inputWidgets": {},
     "nuid": "7e2b7e75-e9c3-4d2c-bd40-6939ffc7cb42",
     "showTitle": true,
     "tableResultSettingsMap": {},
     "title": "access silver table"
    }
   },
   "outputs": [],
   "source": [
    "# Accessing sales table from bronze schema under retail_poc catalog\n",
    "silver_df = spark.table('retail_poc.silver.combined_sales_summary')\n"
   ]
  },
  {
   "cell_type": "code",
   "execution_count": 0,
   "metadata": {
    "application/vnd.databricks.v1+cell": {
     "cellMetadata": {
      "byteLimit": 2048000,
      "rowLimit": 10000
     },
     "inputWidgets": {},
     "nuid": "6fbfe20c-bed1-4a63-b84a-be8619944726",
     "showTitle": false,
     "tableResultSettingsMap": {},
     "title": ""
    }
   },
   "outputs": [],
   "source": [
    "# silver_df.describe()"
   ]
  },
  {
   "cell_type": "code",
   "execution_count": 0,
   "metadata": {
    "application/vnd.databricks.v1+cell": {
     "cellMetadata": {
      "byteLimit": 2048000,
      "rowLimit": 10000
     },
     "inputWidgets": {},
     "nuid": "f23cdf13-f443-4932-a193-b308a5f70b38",
     "showTitle": false,
     "tableResultSettingsMap": {},
     "title": ""
    }
   },
   "outputs": [],
   "source": [
    "# display(silver_df)"
   ]
  },
  {
   "cell_type": "code",
   "execution_count": 0,
   "metadata": {
    "application/vnd.databricks.v1+cell": {
     "cellMetadata": {
      "byteLimit": 2048000,
      "rowLimit": 10000
     },
     "inputWidgets": {},
     "nuid": "a1ea250d-14bf-43e5-a4e5-2004c4078d1f",
     "showTitle": true,
     "tableResultSettingsMap": {},
     "title": "aggregated per month"
    }
   },
   "outputs": [],
   "source": [
    "#created a table for visualizing total sales per month for each store on the basis of aggregated Margin %\n",
    "aggregated_df = silver_df.groupBy(\"Store_code\", \"store_name\", \"Region\", \"Month\", \"Year\", \"Season\"\n",
    ").agg(\n",
    "    sum(\"Sale_QTY\").alias(\"Units_Sold\"),\n",
    "    rnd(sum(\"COGS\"), 2).alias(\"COGS\"),\n",
    "    rnd(sum(\"Net_Sales\"), 2).alias(\"Total_Sales\"),\n",
    "    rnd(sum(\"Net_Margin\"), 2).alias(\"Net_Margin\"),\n",
    "    rnd((sum(\"Net_Margin\") / sum(\"Net_Sales\")) * 100, 2).alias(\"agg_Margin_%\"),\n",
    ")\n",
    "\n"
   ]
  },
  {
   "cell_type": "code",
   "execution_count": 0,
   "metadata": {
    "application/vnd.databricks.v1+cell": {
     "cellMetadata": {
      "byteLimit": 2048000,
      "rowLimit": 10000
     },
     "inputWidgets": {},
     "nuid": "979b647c-193f-49af-ba41-7bf26a3005e3",
     "showTitle": false,
     "tableResultSettingsMap": {},
     "title": ""
    }
   },
   "outputs": [],
   "source": [
    "# %python\n",
    "# # Select all necessary columns for the groupBy operation\n",
    "# aggregated_df = silver_df.select(\n",
    "#     \"Store_code\", \"store_name\", \"Region\", \"Month\", \"Year\", \"Season\", \"Sale_QTY\", \"COGS\", \"Net_Sales\", \"Net_Margin\"\n",
    "# ).groupBy(\n",
    "#     \"Store_code\", \"store_name\", \"Region\", \"Month\", \"Year\"\n",
    "# ).agg(\n",
    "#     sum(\"Sale_QTY\").alias(\"Units_Sold\"),\n",
    "#     rnd(sum(\"COGS\"), 2).alias(\"COGS\"),\n",
    "#     rnd(sum(\"Net_Sales\"), 2).alias(\"Total_Sales\"),\n",
    "#     rnd(sum(\"Net_Margin\"), 2).alias(\"Net_Margin\"),\n",
    "#     rnd((sum(\"Net_Margin\") / sum(\"Net_Sales\")) * 100, 2).alias(\"agg_Margin_%\"),\n",
    "# )\n",
    "\n",
    "# # display(aggregated_df)"
   ]
  },
  {
   "cell_type": "code",
   "execution_count": 0,
   "metadata": {
    "application/vnd.databricks.v1+cell": {
     "cellMetadata": {
      "byteLimit": 2048000,
      "rowLimit": 10000
     },
     "inputWidgets": {},
     "nuid": "5379eb4f-1e88-45e2-a7ac-faff4b98bda1",
     "showTitle": true,
     "tableResultSettingsMap": {},
     "title": "save agg_table_by month for store sales"
    }
   },
   "outputs": [],
   "source": [
    "aggregated_df.write.mode(\"overwrite\").saveAsTable(\"retail_poc.gold.store_sales_per_month\")"
   ]
  },
  {
   "cell_type": "code",
   "execution_count": 0,
   "metadata": {
    "application/vnd.databricks.v1+cell": {
     "cellMetadata": {
      "byteLimit": 2048000,
      "rowLimit": 10000
     },
     "inputWidgets": {},
     "nuid": "eaecf021-7c7f-4784-a3e4-9516c91cfb72",
     "showTitle": true,
     "tableResultSettingsMap": {},
     "title": "aggregated KPIs per day"
    }
   },
   "outputs": [],
   "source": [
    "\n",
    "daily_aggregated_df = silver_df.groupBy(\"Store_code\",\"store_name\", \"Region\", \"Date\", \"Season\").agg(\n",
    "    sum(\"Sale_QTY\").alias(\"Units_Sold\"),\n",
    "    rnd(sum(\"COGS\"), 2).alias(\"COGS\"),\n",
    "    rnd(sum(\"Net_Sales\"), 2).alias(\"Total_Sales\"),\n",
    "    rnd(sum(\"Net_Margin\"), 2).alias(\"Net_Margin\"),\n",
    "    rnd((sum(\"Net_Margin\") / sum(\"Net_Sales\")) * 100, 2).alias(\"agg_Margin_%\")\n",
    ")\n"
   ]
  },
  {
   "cell_type": "code",
   "execution_count": 0,
   "metadata": {
    "application/vnd.databricks.v1+cell": {
     "cellMetadata": {
      "byteLimit": 2048000,
      "rowLimit": 10000
     },
     "inputWidgets": {},
     "nuid": "10f44ba7-6f3a-4630-b874-dc587ab9111c",
     "showTitle": false,
     "tableResultSettingsMap": {},
     "title": ""
    }
   },
   "outputs": [],
   "source": [
    "# daily_aggregated_df.display()"
   ]
  },
  {
   "cell_type": "code",
   "execution_count": 0,
   "metadata": {
    "application/vnd.databricks.v1+cell": {
     "cellMetadata": {
      "byteLimit": 2048000,
      "rowLimit": 10000
     },
     "inputWidgets": {},
     "nuid": "9397c971-72ec-42f1-a670-e9793842cbea",
     "showTitle": true,
     "tableResultSettingsMap": {},
     "title": "store_sale_per_Day"
    }
   },
   "outputs": [],
   "source": [
    "daily_aggregated_df.write.mode(\"overwrite\").saveAsTable(\"retail_poc.gold.store_Sale_per_Day\")"
   ]
  },
  {
   "cell_type": "code",
   "execution_count": 0,
   "metadata": {
    "application/vnd.databricks.v1+cell": {
     "cellMetadata": {
      "byteLimit": 2048000,
      "rowLimit": 10000
     },
     "inputWidgets": {},
     "nuid": "fa167e70-53ab-4cca-bec9-b9178c48dc9c",
     "showTitle": true,
     "tableResultSettingsMap": {},
     "title": "Aggregated KPIs per year"
    }
   },
   "outputs": [],
   "source": [
    "\n",
    "yearly_aggregated_df = silver_df.groupBy(\"Store_code\",\"store_name\", \"Region\", \"Year\").agg(\n",
    "    sum(\"Sale_QTY\").alias(\"Units_Sold\"),\n",
    "    rnd(sum(\"COGS\"), 2).alias(\"COGS\"),\n",
    "    rnd(sum(\"Net_Sales\"), 2).alias(\"Total_Sales\"),\n",
    "    rnd(sum(\"Net_Margin\"), 2).alias(\"Net_Margin\"),\n",
    "    rnd((sum(\"Net_Margin\") / sum(\"Net_Sales\")) * 100, 2).alias(\"agg_Margin_%\")\n",
    ")\n",
    "\n"
   ]
  },
  {
   "cell_type": "code",
   "execution_count": 0,
   "metadata": {
    "application/vnd.databricks.v1+cell": {
     "cellMetadata": {
      "byteLimit": 2048000,
      "rowLimit": 10000
     },
     "inputWidgets": {},
     "nuid": "f19aa84c-d968-4308-8e83-1c19efa1a30f",
     "showTitle": true,
     "tableResultSettingsMap": {},
     "title": "store_sale_per_year"
    }
   },
   "outputs": [],
   "source": [
    "yearly_aggregated_df.write.mode(\"overwrite\").saveAsTable(\"retail_poc.gold.store_Sale_per_Year\")"
   ]
  },
  {
   "cell_type": "code",
   "execution_count": 0,
   "metadata": {
    "application/vnd.databricks.v1+cell": {
     "cellMetadata": {
      "byteLimit": 2048000,
      "rowLimit": 10000
     },
     "inputWidgets": {},
     "nuid": "ff4fabc8-16b0-40f6-b920-f0ab9c2cd4cf",
     "showTitle": false,
     "tableResultSettingsMap": {},
     "title": ""
    }
   },
   "outputs": [],
   "source": [
    "# yearly_aggregated_df.display()"
   ]
  },
  {
   "cell_type": "code",
   "execution_count": 0,
   "metadata": {
    "application/vnd.databricks.v1+cell": {
     "cellMetadata": {
      "byteLimit": 2048000,
      "rowLimit": 10000
     },
     "inputWidgets": {},
     "nuid": "1e51d83f-abe5-4f37-a494-d1a945fa543f",
     "showTitle": true,
     "tableResultSettingsMap": {},
     "title": "Rank Stores Monthly by Total Sales"
    }
   },
   "outputs": [],
   "source": [
    "#To rank stores within each month-year group based on Total Sales, in descending order.\n",
    "window_spec = Window.partitionBy(\"Month\", \"Year\").orderBy(F.col(\"Total_Sales\").desc())\n",
    "ranked_df = aggregated_df.withColumn(\"Rank\", dense_rank().over(window_spec))"
   ]
  },
  {
   "cell_type": "code",
   "execution_count": 0,
   "metadata": {
    "application/vnd.databricks.v1+cell": {
     "cellMetadata": {
      "byteLimit": 2048000,
      "rowLimit": 10000
     },
     "inputWidgets": {},
     "nuid": "89d87f69-b2a3-4b33-a717-0dae92a1670c",
     "showTitle": true,
     "tableResultSettingsMap": {},
     "title": "save table as store_rank"
    }
   },
   "outputs": [],
   "source": [
    "ranked_df.write.format(\"delta\").mode(\"overwrite\").saveAsTable(\"retail_poc.gold.store_rank_permonth_peryear\")"
   ]
  },
  {
   "cell_type": "code",
   "execution_count": 0,
   "metadata": {
    "application/vnd.databricks.v1+cell": {
     "cellMetadata": {
      "byteLimit": 2048000,
      "rowLimit": 10000
     },
     "inputWidgets": {},
     "nuid": "47c7ce21-af95-480e-93d7-3af21f0e5013",
     "showTitle": false,
     "tableResultSettingsMap": {},
     "title": ""
    }
   },
   "outputs": [],
   "source": [
    "# ranked_df.display()"
   ]
  },
  {
   "cell_type": "code",
   "execution_count": 0,
   "metadata": {
    "application/vnd.databricks.v1+cell": {
     "cellMetadata": {
      "byteLimit": 2048000,
      "rowLimit": 10000
     },
     "inputWidgets": {},
     "nuid": "fcfea97f-36bb-4c62-ac7c-162646df041b",
     "showTitle": false,
     "tableResultSettingsMap": {},
     "title": ""
    }
   },
   "outputs": [],
   "source": [
    "# distinct_ranks_df = ranked_df.select(\"Rank\").distinct()\n",
    "# display(distinct_ranks_df)"
   ]
  },
  {
   "cell_type": "code",
   "execution_count": 0,
   "metadata": {
    "application/vnd.databricks.v1+cell": {
     "cellMetadata": {
      "byteLimit": 2048000,
      "rowLimit": 10000
     },
     "inputWidgets": {},
     "nuid": "2b317c42-c7c1-41da-a17d-6abd55326dc5",
     "showTitle": false,
     "tableResultSettingsMap": {},
     "title": ""
    }
   },
   "outputs": [],
   "source": [
    "# aggregated_df.display()"
   ]
  },
  {
   "cell_type": "code",
   "execution_count": 0,
   "metadata": {
    "application/vnd.databricks.v1+cell": {
     "cellMetadata": {
      "byteLimit": 2048000,
      "rowLimit": 10000
     },
     "inputWidgets": {},
     "nuid": "910a20a2-6b5f-4a86-ba3d-2d8a76951ae2",
     "showTitle": true,
     "tableResultSettingsMap": {},
     "title": "updated rank query yearly basis"
    }
   },
   "outputs": [],
   "source": [
    "\n",
    "#Aggregate total sales per store per year\n",
    "df = aggregated_df.groupBy(\"store_name\", \"Year\", \"Region\", \"Season\").agg(\n",
    "    F.sum(\"Total_Sales\").alias(\"Yearly_Total_Sales\")\n",
    ")\n",
    "\n",
    "#Define window to rank stores within each year\n",
    "window_spec = Window.partitionBy(\"Year\").orderBy(F.col(\"Yearly_Total_Sales\").desc())\n",
    "\n",
    "#Add rank column\n",
    "updated_ranked_df = df.withColumn(\"Rank\", dense_rank().over(window_spec))\n"
   ]
  },
  {
   "cell_type": "code",
   "execution_count": 0,
   "metadata": {
    "application/vnd.databricks.v1+cell": {
     "cellMetadata": {
      "byteLimit": 2048000,
      "rowLimit": 10000
     },
     "inputWidgets": {},
     "nuid": "7826ce32-1240-4e9f-9edf-081451b6b04e",
     "showTitle": false,
     "tableResultSettingsMap": {},
     "title": ""
    }
   },
   "outputs": [],
   "source": [
    "# updated_ranked_df.display()"
   ]
  },
  {
   "cell_type": "code",
   "execution_count": 0,
   "metadata": {
    "application/vnd.databricks.v1+cell": {
     "cellMetadata": {
      "byteLimit": 2048000,
      "rowLimit": 10000
     },
     "inputWidgets": {},
     "nuid": "a4b18a16-7818-4c0b-998b-812e4f333567",
     "showTitle": true,
     "tableResultSettingsMap": {},
     "title": "yearly"
    }
   },
   "outputs": [],
   "source": [
    "updated_ranked_df.write.mode(\"overwrite\").saveAsTable(\"retail_poc.gold.yearly_store_rank\")"
   ]
  },
  {
   "cell_type": "code",
   "execution_count": 0,
   "metadata": {
    "application/vnd.databricks.v1+cell": {
     "cellMetadata": {
      "byteLimit": 2048000,
      "rowLimit": 10000
     },
     "inputWidgets": {},
     "nuid": "91c3d12f-88ed-4f75-8d3f-10da5ea90ecc",
     "showTitle": true,
     "tableResultSettingsMap": {},
     "title": "monthly"
    }
   },
   "outputs": [],
   "source": [
    "#Aggregate total sales per store for each month and year\n",
    "monthly_agg_df = aggregated_df.groupBy(\"store_name\", \"Month\", \"Year\", \"Season\").agg(\n",
    "    F.sum(\"Total_Sales\").alias(\"Monthly_Total_Sales\")\n",
    ")\n",
    "\n",
    "#Define window to rank stores within each month-year\n",
    "window_spec = Window.partitionBy(\"Month\", \"Year\").orderBy(F.col(\"Monthly_Total_Sales\").desc())\n",
    "\n",
    "#Add rank column\n",
    "ranked_monthly_df = monthly_agg_df.withColumn(\"Rank\", dense_rank().over(window_spec))\n"
   ]
  },
  {
   "cell_type": "code",
   "execution_count": 0,
   "metadata": {
    "application/vnd.databricks.v1+cell": {
     "cellMetadata": {
      "byteLimit": 2048000,
      "rowLimit": 10000
     },
     "inputWidgets": {},
     "nuid": "7112ab7d-a574-4506-b250-6ed3349a95cb",
     "showTitle": true,
     "tableResultSettingsMap": {},
     "title": "montly"
    }
   },
   "outputs": [],
   "source": [
    "# ranked_monthly_df.display()\n"
   ]
  },
  {
   "cell_type": "code",
   "execution_count": 0,
   "metadata": {
    "application/vnd.databricks.v1+cell": {
     "cellMetadata": {
      "byteLimit": 2048000,
      "rowLimit": 10000
     },
     "inputWidgets": {},
     "nuid": "78bf61f6-4013-4378-bb62-e32a91881ff0",
     "showTitle": false,
     "tableResultSettingsMap": {},
     "title": ""
    }
   },
   "outputs": [],
   "source": [
    "ranked_monthly_df.write.mode(\"overwrite\").saveAsTable(\"retail_poc.gold.ranked_monthly\")"
   ]
  },
  {
   "cell_type": "code",
   "execution_count": 0,
   "metadata": {
    "application/vnd.databricks.v1+cell": {
     "cellMetadata": {
      "byteLimit": 2048000,
      "rowLimit": 10000
     },
     "inputWidgets": {},
     "nuid": "bed5b447-f1c0-4f49-aae4-fb6084e95970",
     "showTitle": true,
     "tableResultSettingsMap": {},
     "title": "products_profit_df"
    }
   },
   "outputs": [],
   "source": [
    "product_profit_df = silver_df.groupBy(\"EAN\", \"Category\", \"Sub_Category\", \"Brand_code\", \"brand_as_per_master\", \"Gender\", \"Month\", \"Year\", \"Season\").agg(\n",
    "    sum(\"Sale_QTY\").alias(\"Units_Sold\"),\n",
    "    sum(\"Net_Margin\").alias(\"Total_Margin\"),\n",
    "    sum(\"Sale_iv\").alias(\"Total_Sales\"),\n",
    "    sum(\"COGS\").alias(\"Total_COGS\"),\n",
    "    (sum(\"Net_Margin\") / sum(\"Net_Sales\") * 100).alias(\"agg_Margin_%\")\n",
    ")"
   ]
  },
  {
   "cell_type": "code",
   "execution_count": 0,
   "metadata": {
    "application/vnd.databricks.v1+cell": {
     "cellMetadata": {
      "byteLimit": 2048000,
      "rowLimit": 10000
     },
     "inputWidgets": {},
     "nuid": "88b07927-fd56-4986-8415-19bbfa56cbd6",
     "showTitle": false,
     "tableResultSettingsMap": {},
     "title": ""
    }
   },
   "outputs": [],
   "source": [
    "# product_profit_df.display()\n",
    "\n"
   ]
  },
  {
   "cell_type": "code",
   "execution_count": 0,
   "metadata": {
    "application/vnd.databricks.v1+cell": {
     "cellMetadata": {
      "byteLimit": 2048000,
      "rowLimit": 10000
     },
     "inputWidgets": {},
     "nuid": "6d2777ef-289c-4916-b7a2-9b2bf5b687a4",
     "showTitle": false,
     "tableResultSettingsMap": {},
     "title": ""
    }
   },
   "outputs": [],
   "source": [
    "\n",
    "product_profit_margin_df = product_profit_df.withColumn(\n",
    "\n",
    "    \"Margin_Segment\",\n",
    "    when(col(\"agg_Margin_%\") >= 60, \"High\")\n",
    "    .when(col(\"agg_Margin_%\") >= 30, \"Medium\")\n",
    "    .otherwise(\"Low\")\n",
    ")\n"
   ]
  },
  {
   "cell_type": "code",
   "execution_count": 0,
   "metadata": {
    "application/vnd.databricks.v1+cell": {
     "cellMetadata": {
      "byteLimit": 2048000,
      "rowLimit": 10000
     },
     "inputWidgets": {},
     "nuid": "0c70e51d-2d26-4afe-bef7-cfbb0408247c",
     "showTitle": false,
     "tableResultSettingsMap": {},
     "title": ""
    }
   },
   "outputs": [],
   "source": [
    "# product_profit_margin_df.display()"
   ]
  },
  {
   "cell_type": "code",
   "execution_count": 0,
   "metadata": {
    "application/vnd.databricks.v1+cell": {
     "cellMetadata": {
      "byteLimit": 2048000,
      "rowLimit": 10000
     },
     "inputWidgets": {},
     "nuid": "01294d20-d925-4f6b-b390-36b65df4be30",
     "showTitle": false,
     "tableResultSettingsMap": {},
     "title": ""
    }
   },
   "outputs": [],
   "source": [
    "product_profit_margin_df.write.format(\"delta\").mode(\"overwrite\").saveAsTable(\"retail_poc.gold.product_profit_margin\")"
   ]
  },
  {
   "cell_type": "code",
   "execution_count": 0,
   "metadata": {
    "application/vnd.databricks.v1+cell": {
     "cellMetadata": {
      "byteLimit": 2048000,
      "rowLimit": 10000
     },
     "inputWidgets": {},
     "nuid": "72a5c6ae-1272-4999-a910-386df71bb637",
     "showTitle": true,
     "tableResultSettingsMap": {},
     "title": "Average Sales & Margin per Store per Month"
    }
   },
   "outputs": [],
   "source": [
    "\n",
    "\n",
    "# avg_sales_margin_month = silver_df.groupBy(\"Store_code\",\"store_name\", \"Year\", \"Month\").agg(\n",
    "#     avg(\"Net_Sales\").alias(\"avg_monthly_sales\"),\n",
    "#     avg(\"Net_Margin\").alias(\"avg_monthly_margin\")\n",
    "# )\n",
    "# avg_sales_margin_month.show()\n"
   ]
  },
  {
   "cell_type": "code",
   "execution_count": 0,
   "metadata": {
    "application/vnd.databricks.v1+cell": {
     "cellMetadata": {
      "byteLimit": 2048000,
      "rowLimit": 10000
     },
     "inputWidgets": {},
     "nuid": "93a2d3d6-70f8-4ef5-aaf1-f38a1154794c",
     "showTitle": true,
     "tableResultSettingsMap": {},
     "title": "Total Sales & Margin by Region"
    }
   },
   "outputs": [],
   "source": [
    "# region_sales_margin = silver_df.groupBy(\"Region\").agg(\n",
    "#     sum(\"Net_Sales\").alias(\"total_sales\"),\n",
    "#     sum(\"Net_Margin\").alias(\"total_margin\")\n",
    "# )\n",
    "# region_sales_margin.show()\n"
   ]
  }
 ],
 "metadata": {
  "application/vnd.databricks.v1+notebook": {
   "computePreferences": null,
   "dashboards": [],
   "environmentMetadata": {
    "base_environment": "",
    "environment_version": "2"
   },
   "inputWidgetPreferences": null,
   "language": "python",
   "notebookMetadata": {
    "mostRecentlyExecutedCommandWithImplicitDF": {
     "commandId": 5997762442184067,
     "dataframes": [
      "_sqldf"
     ]
    },
    "pythonIndentUnit": 4
   },
   "notebookName": "Gold layer Retail_poc",
   "widgets": {}
  },
  "language_info": {
   "name": "python"
  }
 },
 "nbformat": 4,
 "nbformat_minor": 0
}
